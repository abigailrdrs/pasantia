{
 "cells": [
  {
   "cell_type": "code",
   "execution_count": 1,
   "id": "f3039670",
   "metadata": {},
   "outputs": [
    {
     "name": "stdout",
     "output_type": "stream",
     "text": [
      "Requirement already satisfied: gurobipy in c:\\users\\abigail\\anaconda3\\lib\\site-packages (12.0.3)\n",
      "Requirement already satisfied: pandas in c:\\users\\abigail\\anaconda3\\lib\\site-packages (2.2.3)\n",
      "Requirement already satisfied: openpyxl in c:\\users\\abigail\\anaconda3\\lib\\site-packages (3.1.5)\n",
      "Requirement already satisfied: numpy>=1.26.0 in c:\\users\\abigail\\anaconda3\\lib\\site-packages (from pandas) (2.1.3)\n",
      "Requirement already satisfied: python-dateutil>=2.8.2 in c:\\users\\abigail\\anaconda3\\lib\\site-packages (from pandas) (2.9.0.post0)\n",
      "Requirement already satisfied: pytz>=2020.1 in c:\\users\\abigail\\anaconda3\\lib\\site-packages (from pandas) (2024.1)\n",
      "Requirement already satisfied: tzdata>=2022.7 in c:\\users\\abigail\\anaconda3\\lib\\site-packages (from pandas) (2025.2)\n",
      "Requirement already satisfied: et-xmlfile in c:\\users\\abigail\\anaconda3\\lib\\site-packages (from openpyxl) (1.1.0)\n",
      "Requirement already satisfied: six>=1.5 in c:\\users\\abigail\\anaconda3\\lib\\site-packages (from python-dateutil>=2.8.2->pandas) (1.17.0)\n"
     ]
    }
   ],
   "source": [
    "!pip install gurobipy\n",
    "!pip install pandas openpyxl"
   ]
  },
  {
   "cell_type": "code",
   "execution_count": 12,
   "id": "3db0c5c3",
   "metadata": {},
   "outputs": [
    {
     "name": "stdout",
     "output_type": "stream",
     "text": [
      " 5: 0.0043485164642333984\n",
      " 6: 0.004571676254272461\n",
      " 7: 0.011686563491821289\n",
      " 5: 0.003454446792602539\n",
      " 6: 0.008553743362426758\n",
      " 7: 0.012395858764648438\n",
      "El modelo es inviable. Calculando IIS...\n",
      "Inviable: C17[0,1,3]\n",
      "Inviable: C17[0,1,6]\n",
      "Inviable: C17[0,2,1]\n",
      "Inviable: C17[0,2,5]\n",
      "Inviable: C17[0,2,6]\n",
      "Inviable: C17[0,3,2]\n",
      "Inviable: C17[0,5,1]\n",
      "Inviable: C17[0,5,3]\n",
      "Inviable: C17[0,6,3]\n",
      "Inviable: C17[0,6,5]\n",
      "Inviable: C20[0,1,2]\n",
      "Inviable: C20[0,1,3]\n",
      "Inviable: C20[0,1,5]\n",
      "Inviable: C20[0,1,6]\n",
      "Inviable: C20[0,2,1]\n",
      "Inviable: C20[0,2,3]\n",
      "Inviable: C20[0,2,5]\n",
      "Inviable: C20[0,2,6]\n",
      "Inviable: C20[0,3,1]\n",
      "Inviable: C20[0,3,2]\n",
      "Inviable: C20[0,3,5]\n",
      "Inviable: C20[0,3,6]\n",
      "Inviable: C20[0,5,1]\n",
      "Inviable: C20[0,5,2]\n",
      "Inviable: C20[0,5,3]\n",
      "Inviable: C20[0,5,6]\n",
      "Inviable: C20[0,6,1]\n",
      "Inviable: C20[0,6,2]\n",
      "Inviable: C20[0,6,3]\n",
      "Inviable: C20[0,6,5]\n",
      "Inviable: C21[1]\n",
      "Inviable: C21[2]\n",
      "Inviable: C21[3]\n",
      "Inviable: C21[5]\n",
      "Inviable: C21[6]\n",
      " 5: 0.004464149475097656\n",
      " 6: 0.010642528533935547\n",
      " 7: 0.013421773910522461\n"
     ]
    }
   ],
   "source": [
    "from generador_datos import *\n",
    "from procesador import *\n",
    "datos(6)\n",
    "cargar_archivos_y_modelar(3,8)"
   ]
  }
 ],
 "metadata": {
  "kernelspec": {
   "display_name": "base",
   "language": "python",
   "name": "python3"
  },
  "language_info": {
   "codemirror_mode": {
    "name": "ipython",
    "version": 3
   },
   "file_extension": ".py",
   "mimetype": "text/x-python",
   "name": "python",
   "nbconvert_exporter": "python",
   "pygments_lexer": "ipython3",
   "version": "3.13.5"
  }
 },
 "nbformat": 4,
 "nbformat_minor": 5
}
